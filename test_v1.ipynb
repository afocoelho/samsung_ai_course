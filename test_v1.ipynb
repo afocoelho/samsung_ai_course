{
 "cells": [
  {
   "cell_type": "markdown",
   "id": "b454e37b",
   "metadata": {},
   "source": [
    "# 1. "
   ]
  },
  {
   "cell_type": "code",
   "execution_count": 1,
   "id": "799f6c17-9d73-41f1-83b7-a7ec68e0106f",
   "metadata": {
    "deletable": false,
    "editable": false,
    "tags": []
   },
   "outputs": [],
   "source": [
    "import hashlib"
   ]
  },
  {
   "cell_type": "markdown",
   "id": "d0e26456",
   "metadata": {},
   "source": [
    "# 1.1 Mean of a list of numbers\n",
    "\n",
    "Description:\n",
    "\n",
    "Write a function that takes a list of integers as input and returns the mean of the list.\n",
    "\n",
    "Example Input:\n",
    "\n",
    "`[1, 2, 3, 4, 5]`\n",
    "\n",
    "Example Output:\n",
    "\n",
    "`3.0`\n",
    "\n",
    "Constraints:\n",
    "\n",
    "- The function should be named \"calculate_mean\"\n",
    "- The function should take one argument, which is a list of integers.\n",
    "- The output should be a float representing the mean of the input list.\n",
    "- You can assume that the input list will only contain integers."
   ]
  },
  {
   "cell_type": "code",
   "execution_count": 23,
   "id": "abb5e23d-5b2d-45a9-8f26-342cd82429cd",
   "metadata": {},
   "outputs": [],
   "source": [
    "def calculate_mean(input_list):\n",
    "    return sum(input_list) / len(input_list)"
   ]
  },
  {
   "cell_type": "code",
   "execution_count": 27,
   "id": "95c64fa2",
   "metadata": {},
   "outputs": [],
   "source": [
    "test_case_1 = [1, 2, 3] # 2\n",
    "test_case_2 = [-2, 0, 2, 4, 6] # 2\n",
    "test_case_3 = [10, -5, 3, 7, -2, 0, 8, -9, 4, 1] # 1.7"
   ]
  },
  {
   "cell_type": "code",
   "execution_count": 22,
   "id": "444ed071",
   "metadata": {
    "deletable": false,
    "editable": false,
    "tags": []
   },
   "outputs": [],
   "source": [
    "#testing cell\n",
    "results = [hashlib.sha256(str(calculate_mean(test_case)).encode()).hexdigest() for test_case in [test_case_1, test_case_2, test_case_3]]\n",
    "\n",
    "expected_hashes = ['d84bdb34d4eeef4034d77e5403f850e35bc4a51b1143e3a83510e1aaad839748',\n",
    " 'd84bdb34d4eeef4034d77e5403f850e35bc4a51b1143e3a83510e1aaad839748',\n",
    " '8f65223004a75f44404f485a1e84090699acef51f39de9411d6d9b377ae859a5']\n",
    "\n",
    "assert all([result == expected_hash for result, expected_hash in zip(results, expected_hashes)])"
   ]
  },
  {
   "cell_type": "markdown",
   "id": "a27d1f12",
   "metadata": {},
   "source": [
    "# 1.2 Intersection between 2 lists\n",
    "Sure! Here's another exercise statement for you:\n",
    "\n",
    "Title: Write a Function that Finds the Intersection between 2 lists: A and B\n",
    "\n",
    "Description:\n",
    "\n",
    "Write a Python function that takes two lists as input and returns a list of the elements that are common to both lists. If there are no common elements, the function should return an empty list.\n",
    "\n",
    "Example Input:\n",
    "\n",
    "`A = [1, 2, 3, 4, 5] `  \n",
    "`B = [4, 5, 6, 7, 8] `\n",
    "\n",
    "Example Output:\n",
    "\n",
    "`[4, 5]`\n",
    "\n",
    "Constraints:\n",
    "\n",
    "- The function should be named \"find_intersection\"\n",
    "- The function should take two arguments, both of which are lists\n",
    "- The function should return a list containing the common elements between the two input lists\n",
    "- The order of the elements in the output list does not matter\n",
    "- You can assume that the input lists will only contain integers"
   ]
  },
  {
   "cell_type": "code",
   "execution_count": 10,
   "id": "f54a9fea",
   "metadata": {},
   "outputs": [],
   "source": [
    "def find_intersection(test_case_1):\n",
    "    #raise NotImplementedError()\n",
    "    return [x for x in test_case_1[0] if x in test_case_1[1]]"
   ]
  },
  {
   "cell_type": "code",
   "execution_count": 19,
   "id": "26e45b11",
   "metadata": {},
   "outputs": [],
   "source": [
    "# testing Cell\n",
    "test_case_1 = ([1,2,3],[2,3,4]) # [2,3]\n",
    "test_case_2 = ([1],[2]) # []\n",
    "test_case_3 = ([1,2,3,4],[1,2,3,4]) # [1,2,3,4]\n",
    "\n",
    "#testing cell\n",
    "results = [hashlib.sha256(str(find_intersection(test_case)).encode()).hexdigest() for test_case in [test_case_1, test_case_2, test_case_3]]\n",
    "\n",
    "expected_hashes = ['5bf775530e2e5fcd9c6ae577c52cd57a20d13ebb5f7bc3e8a8a7920d3a7ce41e',\n",
    " '4f53cda18c2baa0c0354bb5f9a3ecbe5ed12ab4d8e11ba873c2f11161202b945',\n",
    " 'd1be96124d992521a95e1a618d79025a5f5ee6613e43b0d235beb9b0fe8635a9']\n",
    "\n",
    "assert all([result == expected_hash for result, expected_hash in zip(results, expected_hashes)])"
   ]
  },
  {
   "cell_type": "markdown",
   "id": "92f6f971",
   "metadata": {},
   "source": [
    "# 1.3 Intersection between two lists, with condition\n",
    "\n",
    "Description:\n",
    "\n",
    "Write a Python function that takes three lists as input: A, B, and C. You want to find the intersection between A and B but your result cannot include any elements from list C.\n",
    "\n",
    "Example Input:\n",
    "\n",
    "`A = [1, 2, 3, 4, 5]`\n",
    "`B = [3, 4, 5, 6]`\n",
    "`C = [1, 4]`\n",
    "\n",
    "Example Output:\n",
    "\n",
    "`[3, 5]`\n",
    "\n",
    "Constraints:\n",
    "\n",
    "- The function should be named \"find_conditional_intersection\"\n",
    "- The function should take three arguments, all of which are lists: A, B, and C.\n",
    "- Each list contains only numbers as elements\n",
    "- The function should return a list containing the elements that are in both lists A and B but not in list C.\n",
    "- The order of the elements in the output list does not matter.\n",
    "- You can assume that the input lists will only contain integers."
   ]
  },
  {
   "cell_type": "code",
   "execution_count": 27,
   "id": "63704fb1",
   "metadata": {},
   "outputs": [],
   "source": [
    "def find_conditional_intersection(A,B,C):\n",
    "    return [x for x in A if (x in B) & (x not in C) ]\n",
    "    #raise NotImplementedError()"
   ]
  },
  {
   "cell_type": "code",
   "execution_count": 35,
   "id": "994ba887",
   "metadata": {},
   "outputs": [],
   "source": [
    "# Testing Cell\n",
    "test_case_1 = {'A': [1,2,3], 'B': [2,3,4], 'C':[2]} # [3]\n",
    "test_case_2 = {'A': [1,2,3,4,5], 'B': [1,2,3,4,5], 'C':[1,2,3,4,5]}\n",
    "test_case_3 = {'A': [1,2], 'B': [3,4], 'C': [5,6]}\n",
    "\n",
    "results = [hashlib.sha256(str((find_conditional_intersection(test_case['A'],test_case['B'],test_case['C']))).encode()).hexdigest() for test_case in [test_case_1, test_case_2, test_case_3]]\n",
    "\n",
    "expected_hashes = ['06d033ece6645de592db973644cf7357255f24536ff7b03c3b2ace10736f7636',\n",
    " '4f53cda18c2baa0c0354bb5f9a3ecbe5ed12ab4d8e11ba873c2f11161202b945',\n",
    " '4f53cda18c2baa0c0354bb5f9a3ecbe5ed12ab4d8e11ba873c2f11161202b945']\n",
    "\n",
    "assert all([result == expected_hash for result, expected_hash in zip(results, expected_hashes)])"
   ]
  },
  {
   "cell_type": "markdown",
   "id": "1a08fadc",
   "metadata": {},
   "source": [
    "# 1.4 Find all numbers inside a list\n",
    "\n",
    "**Description:**  \n",
    "Write a Python function that takes a list as input. The elements of this list can be either 1) a number, or 2) a list of numbers. Your function should return a single list that contains all the numbers inside your input list. Be careful, some of the lists can be empty.\n",
    "  \n",
    "Example Input:\n",
    "\n",
    "`[1, 2, [3, 4], [], [6, 7, 8, 9], 10]`\n",
    "  \n",
    "Example Output:\n",
    "  \n",
    "`[1, 2, 3, 4, 5, 6, 7 , 8 , 9, 10]`\n",
    "  \n",
    "Constraints:  \n",
    "  \n",
    "- The function should be named \"where_are_the_numbers\"  \n",
    "- The function should take one argument, which is a list.\n",
    "- The function should return a single list, containing all the numbers present inside the input.\n",
    "- You can assume that the input list will only contain integers, lists of integers and empty lists.  "
   ]
  },
  {
   "cell_type": "code",
   "execution_count": 36,
   "id": "90bc60ed",
   "metadata": {},
   "outputs": [],
   "source": [
    "def where_are_the_numbers(input_list):\n",
    "    res = []\n",
    "    for elem in input_list:\n",
    "        res.extend(elem) if isinstance(elem,list) else res.append(elem)\n",
    "    return res"
   ]
  },
  {
   "cell_type": "code",
   "execution_count": 45,
   "id": "d74f1d18",
   "metadata": {},
   "outputs": [],
   "source": [
    "#testing cell\n",
    "test_case_1 = [1, 2, [3, 4], [5, 6], 7, [8, 9, 10]]\n",
    "test_case_2 = [[1, 2], [3, 4], [5, 6], [7, 8], [9, 10, 11]]\n",
    "test_case_3 = [[], [1, 2], [], [3, 4], [5, 6], [], 7, [8, 9, 10], 11, [], 12, []]\n",
    "\n",
    "results = [hashlib.sha256(str(where_are_the_numbers(test_case)).encode()).hexdigest() for test_case in [test_case_1, test_case_2, test_case_3]]\n",
    "\n",
    "expected_hashes = ['047c3537400c225da832d4d7dc924b01a3c0bac65ce23c5dcf182f4dd6895e73',\n",
    " '6c4aaeffbc958c203fa57bd33ab7be26aac217d3c417c45dd2ba6b723a28ac4e',\n",
    " '43408eb4bb07abc24e8706701c02f5ae6e3066d1203b280507e603cc62087d4e']\n",
    "\n",
    "assert all([result == expected_hash for result, expected_hash in zip(results, expected_hashes)])"
   ]
  },
  {
   "cell_type": "markdown",
   "id": "18972cb0",
   "metadata": {},
   "source": [
    "# 2. Dictionaries"
   ]
  },
  {
   "cell_type": "markdown",
   "id": "27b67f59",
   "metadata": {},
   "source": [
    "## 2.1 Build metadata for a grocery store\n",
    "\n",
    "Description:\n",
    "\n",
    "Write a Python function that takes as input a dictionary of grocery items as keys, and their amount as values (think of this as a database for a grocery store), and returns a dictionary of metadata. Your dictionary should contain the following:\n",
    "\n",
    "1. A key \"total_amount\" where the value should be the total amount of groceries.\n",
    "2. A key \"items\" and the value should be a set with all the different grocery items.\n",
    "3. A key \"running low\" and the value should be all grocery items whose amount is below 2.\n",
    "\n",
    "Example Input:\n",
    "\n",
    "`grocery_database = {\"apples\": 3, \"bananas\": 5, \"oranges\": 1}`\n",
    "\n",
    "Example Output:\n",
    "\n",
    "`{\"total_amount\": 9, \"items\": {\"apples\",\"bananas\",\"oranges\"}, \"running low\": [\"oranges\"]}`\n",
    "\n",
    "Constraints:\n",
    "\n",
    "- The function should be named \"build_metadata\"\n",
    "- The function should take one argument, which is a dictionary\n",
    "- The function should return the updated dictionary\n",
    "- You can assume that the input dictionary will only contain string keys and integer values."
   ]
  },
  {
   "cell_type": "code",
   "execution_count": 47,
   "id": "f9604bf5",
   "metadata": {},
   "outputs": [],
   "source": [
    "def build_metadata(grocery_database):\n",
    "    metadata = {}\n",
    "    metadata[\"total_amount\"] = sum(grocery_database.values())\n",
    "    metadata[\"items\"] = set(grocery_database.keys())\n",
    "    metadata[\"running low\"] = [item for item, amount in grocery_database.items() if amount < 2]\n",
    "    return metadata"
   ]
  },
  {
   "cell_type": "code",
   "execution_count": 52,
   "id": "782565b7-b787-46dc-bd07-1f5bf6d03956",
   "metadata": {},
   "outputs": [],
   "source": [
    "test_case_1 = {\"apples\": 3, \"bananas\": 5, \"oranges\": 1}\n",
    "test_case_2 = {\"tomatoes\":19, \"cucumber\":1, \"beans\":5, \"kiwis\": 1}\n",
    "test_case_3 = {\"grapefruit\": 49, \"melon\": 0, \"strawberries\":78}\n",
    "\n",
    "results = [hashlib.sha256(str(build_metadata(test_case)).encode()).hexdigest() for test_case in [test_case_1, test_case_2, test_case_3]]\n",
    "\n",
    "expected_hashes = ['9e288464fecfba459685065ee2140ebd9a6a4c78e58588242121b82b5c7a139d',\n",
    " '16f02b23352417c9e75a3b7281bed7d001d658100b6d8e3c700a89d40611a07f',\n",
    " '7ba7fcdae43b124d305f96d9d5fa0fec21e41cc7bee6ca0e17371c11516e73e2']\n",
    "\n",
    "assert all([result == expected_hash for result, expected_hash in zip(results, expected_hashes)])\n",
    "del results"
   ]
  },
  {
   "cell_type": "markdown",
   "id": "4cd77828-fa29-4c1a-b3d0-b4ca1382441e",
   "metadata": {},
   "source": [
    "## 2.2 Count the Occurrences of Each Letter in a String\n",
    "\n",
    "Description:\n",
    "\n",
    "Write a function that takes a string as input and returns a dictionary where the keys are the letters in the string and the values are the number of times each letter appears in the string.\n",
    "\n",
    "Example Input:\n",
    "\n",
    "`\"hello\"`\n",
    "\n",
    "Example Output:\n",
    "\n",
    "`{'h': 1, 'e': 1, 'l': 2, 'o': 1}`\n",
    "\n",
    "Constraints:\n",
    "\n",
    "- The function should be named \"count_letters\"\n",
    "- The function should take one argument, which is a string.\n",
    "- The output should be a dictionary where the keys are the letters in the input string and the values are the number of times each letter appears in the input string.\n",
    "- A whitespace is not a letter so it shouldnt be considered.\n",
    "- The function should be case-insensitive, meaning that uppercase and lowercase letters should be treated as equivalent.\n",
    "- The function should ignore spaces and punctuation when counting occurrences of letters."
   ]
  },
  {
   "cell_type": "code",
   "execution_count": 54,
   "id": "949d5fd2",
   "metadata": {},
   "outputs": [],
   "source": [
    "import string\n",
    "\n",
    "def count_letters(s):\n",
    "    s = s.lower()\n",
    "    s = ''.join(c for c in s if c not in string.punctuation and not c.isspace())\n",
    "    d = {}\n",
    "    for char in s:\n",
    "        if char in d:\n",
    "            d[char] += 1\n",
    "        else:\n",
    "            d[char] = 1\n",
    "    return d\n"
   ]
  },
  {
   "cell_type": "code",
   "execution_count": 62,
   "id": "ea931278-25e4-4b99-b7cb-7ac853f9e980",
   "metadata": {},
   "outputs": [],
   "source": [
    "test_case_1 = \"hello\"\n",
    "test_case_2 = \"Never gonna give you up\"\n",
    "test_case_3 = \"Never gonna let you down\"\n",
    "\n",
    "results = [hashlib.sha256(str(count_letters(test_case)).encode()).hexdigest() for test_case in [test_case_1, test_case_2, test_case_3]]\n",
    "\n",
    "expected_hashes = ['9335bc0951750707c4e611746187d071c54b3b913ad6489cda8e4827174a3748',\n",
    " 'aa7c24d29b093fc92c1214e0287c8c9b918cfba24db55e7882e2cdb2397a86cd',\n",
    " 'de6bf7bd6e7ab04cd2ad410ade2e42b35941c66d0d65e7cdab12c634309a740e']\n",
    "\n",
    "assert all([result == expected_hash for result, expected_hash in zip(results, expected_hashes)])\n",
    "del results\n"
   ]
  },
  {
   "cell_type": "markdown",
   "id": "ca54331c",
   "metadata": {},
   "source": [
    "## 2.3 Bag of words\n",
    "Description\n",
    "\n",
    "Write a function that takes a string as input and returns a dictionary where the keys are unique words in the string and the values are their count in the string.\n",
    "\n",
    "Example Input:\n",
    "\n",
    "`\"The quick brown fox jumps over the lazy dog\"`\n",
    "\n",
    "Example Output:\n",
    "`{'the': 2, 'quick': 1, 'brown': 1, 'fox': 1, 'jumps': 1, 'over': 1, 'lazy': 1, 'dog': 1}`\n",
    "\n",
    "Contraints:\n",
    "- The function should be named 'text2bow'\n",
    "- The function should take on argument, which is a string\n",
    "- A word is considered a sequence of text surrounded by whitespaces"
   ]
  },
  {
   "cell_type": "code",
   "execution_count": 64,
   "id": "cf8c6aa1",
   "metadata": {},
   "outputs": [],
   "source": [
    "def text2bow(s):\n",
    "    words = s.split()\n",
    "    d = {}\n",
    "    for word in words:\n",
    "        if word in d:\n",
    "            d[word] += 1\n",
    "        else:\n",
    "            d[word] = 1\n",
    "    return d\n"
   ]
  },
  {
   "cell_type": "code",
   "execution_count": 73,
   "id": "c1e3035c",
   "metadata": {},
   "outputs": [],
   "source": [
    "test_case_1 = \"The quick brown fox jumps over the lazy dog\"\n",
    "test_case_2 = \"Keep your friends close, but your enemies closer.\"\n",
    "test_case_3 = \"To be, or not to be, that is the question. Whether 'tis nobler in the mind to suffer.\"\n",
    "\n",
    "results = [hashlib.sha256(str(text2bow(test_case)).encode()).hexdigest() for test_case in [test_case_1, test_case_2, test_case_3]]\n",
    "\n",
    "expected_hashes = ['0353e65cf1930f629fce93bb46e5d94cddfab9f76cc3438228af2da31a0b253d',\n",
    " 'a8774528ecfd41539f10c4ab36ad40ee563c6110a01d032bfd48ff171a26ada7',\n",
    " '08c5dd71f44770b80962868eea8f7c4bcac542b1b35b6c53fbb787b4230099dc']\n",
    "\n",
    "assert all([result == expected_hash for result, expected_hash in zip(results, expected_hashes)])\n",
    "del results"
   ]
  },
  {
   "cell_type": "markdown",
   "id": "ad339917",
   "metadata": {},
   "source": [
    "# 3 Strings"
   ]
  },
  {
   "cell_type": "markdown",
   "id": "b346f24c-e44c-409d-a44b-bab4e896a21e",
   "metadata": {},
   "source": [
    "## 3.1 Eliminate Duplicate Words in a String\n",
    "\n",
    "Description:\n",
    "\n",
    "Write a function that takes a string as input and returns a string where all duplicate words have been eliminated. A word is defined as any sequence of non-space characters.\n",
    "\n",
    "Example Input:\n",
    "\n",
    "\"the cat in the hat hat\"\n",
    "\n",
    "Example Output:\n",
    "\n",
    "\"the cat in hat\"\n",
    "\n",
    "Constraints:\n",
    "\n",
    "- The function should be named \"eliminate_duplicates\"\n",
    "- The function should take one argument, which is a string.\n",
    "- The output should be a string where all duplicate words have been eliminated.\n",
    "- You can assume that the input string will only contain lowercase and uppercase letters, digits, spaces, and punctuation.\n",
    "- The function should be case-insensitive, meaning that uppercase and lowercase letters should be treated as equivalent.\n",
    "- The function should preserve the order of words in the original string."
   ]
  },
  {
   "cell_type": "code",
   "execution_count": 75,
   "id": "e3edfb0a",
   "metadata": {},
   "outputs": [],
   "source": [
    "def eliminate_duplicates(s):\n",
    "    words = s.lower().split()\n",
    "    unique_words = []\n",
    "    for word in words:\n",
    "        if word not in unique_words:\n",
    "            unique_words.append(word)\n",
    "    return ' '.join(unique_words)\n"
   ]
  },
  {
   "cell_type": "code",
   "execution_count": 82,
   "id": "3799a78f",
   "metadata": {},
   "outputs": [],
   "source": [
    "# Test case 1\n",
    "test_case_1 = \"the cat in the hat hat\"\n",
    "test_case_2 = \"The quick brown fox jumps over the lazy dog dog\"\n",
    "test_case_3 = \"The sun is shining, the weather is sweet, yeah\"\n",
    "\n",
    "results = [hashlib.sha256(str(eliminate_duplicates(test_case)).encode()).hexdigest() for test_case in [test_case_1, test_case_2, test_case_3]]\n",
    "\n",
    "expected_hashes = ['002bdd9274c2e1123dbdead488ae9d2b3dd6554942b8143b7c1084230cf08a6b',\n",
    " 'c49d298c2acb8bb6208e18440a7b209dfc5b1a7f92871a4eff6cd7ceed4c92cd',\n",
    " '21aa7b9896c5bdbc1f2b7571bb46cdb482b7b86116e428c880fa3ff345c04d0f']\n",
    "assert all([result == expected_hash for result, expected_hash in zip(results, expected_hashes)])\n",
    "del results"
   ]
  },
  {
   "cell_type": "markdown",
   "id": "bb318acc",
   "metadata": {},
   "source": [
    "## 3.2 Find the Longest Common Substring of Two Sentences\n",
    "\n",
    "Description:\n",
    "\n",
    "Write a function that takes two sentences as input and returns the longest common substring between them. \n",
    "\n",
    "Example Input:\n",
    "\n",
    "`sentence1 = \"The quick brown fox jumps over the lazy dog\"`\n",
    "`sentence2 = \"My favorite animal is the quick brown fox\"`\n",
    "\n",
    "Example Output:\n",
    "\n",
    "`\"the quick brown fox\"`\n",
    "\n",
    "Constraints:\n",
    "\n",
    "- The function should be named \"longest_common_substring\"\n",
    "- The function should take two string inputs.\n",
    "- The output should be a string representing the longest common substring.\n",
    "- You can assume that the input sentences will only contain lowercase and uppercase letters, digits, spaces, and punctuation.\n",
    "- The function should return an empty string if there is no common substring between the two input strings.\n",
    "- The ouput should be in **lowercase**"
   ]
  },
  {
   "cell_type": "code",
   "execution_count": 94,
   "id": "2516a37e",
   "metadata": {},
   "outputs": [],
   "source": [
    "def longest_common_substring(s1, s2):\n",
    "    \"\"\"\n",
    "    Returns the longest common substring between two sentences.\n",
    "    \"\"\"\n",
    "    # Convert inputs to lowercase\n",
    "    s1 = s1.lower()\n",
    "    s2 = s2.lower()\n",
    "    \n",
    "    # Initialize variables\n",
    "    m = len(s1)\n",
    "    n = len(s2)\n",
    "    maxlen = 0\n",
    "    end = 0\n",
    "    \n",
    "    # Create a table to store the length of longest common suffixes of substrings\n",
    "    # table[i][j] represents the length of the longest common suffix of s1[i:] and s2[j:]\n",
    "    table = [[0 for _ in range(n+1)] for _ in range(m+1)]\n",
    "    \n",
    "    # Fill the table\n",
    "    for i in range(m):\n",
    "        for j in range(n):\n",
    "            if s1[i] == s2[j]:\n",
    "                table[i+1][j+1] = table[i][j] + 1\n",
    "                if table[i+1][j+1] > maxlen:\n",
    "                    maxlen = table[i+1][j+1]\n",
    "                    end = i\n",
    "            else:\n",
    "                table[i+1][j+1] = 0\n",
    "    \n",
    "    # Return the longest common substring\n",
    "    return s1[end-maxlen+1:end+1].strip()\n"
   ]
  },
  {
   "cell_type": "code",
   "execution_count": 97,
   "id": "25a51f59",
   "metadata": {},
   "outputs": [
    {
     "data": {
      "text/plain": [
       "'in the'"
      ]
     },
     "execution_count": 97,
     "metadata": {},
     "output_type": "execute_result"
    }
   ],
   "source": [
    "longest_common_substring(s5, s6) "
   ]
  },
  {
   "cell_type": "code",
   "execution_count": 98,
   "id": "2f310a82",
   "metadata": {},
   "outputs": [],
   "source": [
    "# Test case 1\n",
    "s1 = \"The quick brown fox jumps over the lazy dog\"\n",
    "s2 = \"My favorite animal is the quick brown fox\"\n",
    "assert longest_common_substring(s1, s2) == \"the quick brown fox\"\n",
    "\n",
    "# Test case 2\n",
    "s3 = \"Hello world\"\n",
    "s4 = \"Goodbye world\"\n",
    "assert longest_common_substring(s3, s4) == \"world\"\n",
    "\n",
    "# Test case 3\n",
    "s5 = \"The cat in the hat\"\n",
    "s6 = \"The dog in the fog\"\n",
    "assert longest_common_substring(s5, s6) == \"in the\"\n"
   ]
  },
  {
   "cell_type": "code",
   "execution_count": 102,
   "id": "8ba21eda",
   "metadata": {},
   "outputs": [],
   "source": [
    "# Test case 1\n",
    "test_case_1 = {'s1': 'The quick brown fox jumps over the lazy dog', 's2': 'My favorite animal is the quick brown fox'}\n",
    "test_case_2 = {'s1': 'Hello world!', 's2': 'Goodbye world!'}\n",
    "test_case_3 = {'s1': 'The cat in the hat', 's2': 'The dog in the fog'}\n",
    "\n",
    "results = [hashlib.sha256(str(longest_common_substring(test_case['s1'],test_case['s2'])).encode()).hexdigest() for test_case in [test_case_1, test_case_2, test_case_3]]\n",
    "\n",
    "expected_hashes = ['9ecb36561341d18eb65484e833efea61edc74b84cf5e6ae1b81c63533e25fc8f',\n",
    " '711e9609339e92b03ddc0a211827dba421f38f9ed8b9d806e1ffdd8c15ffa03d',\n",
    " '866ab23f02991a070ef7b06fc39ab77a0e9e840db9d0dabb204735b109d4a52c']\n",
    "assert all([result == expected_hash for result, expected_hash in zip(results, expected_hashes)])\n",
    "#del results"
   ]
  }
 ],
 "metadata": {
  "kernelspec": {
   "display_name": "Python 3 (ipykernel)",
   "language": "python",
   "name": "python3"
  },
  "language_info": {
   "codemirror_mode": {
    "name": "ipython",
    "version": 3
   },
   "file_extension": ".py",
   "mimetype": "text/x-python",
   "name": "python",
   "nbconvert_exporter": "python",
   "pygments_lexer": "ipython3",
   "version": "3.10.9"
  }
 },
 "nbformat": 4,
 "nbformat_minor": 5
}
