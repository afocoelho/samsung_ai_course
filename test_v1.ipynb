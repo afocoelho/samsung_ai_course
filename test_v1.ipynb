{
 "cells": [
  {
   "cell_type": "markdown",
   "id": "b454e37b",
   "metadata": {},
   "source": [
    "# 0. "
   ]
  },
  {
   "cell_type": "code",
   "execution_count": 21,
   "id": "799f6c17-9d73-41f1-83b7-a7ec68e0106f",
   "metadata": {
    "deletable": false,
    "editable": false,
    "tags": []
   },
   "outputs": [],
   "source": [
    "import hashlib"
   ]
  },
  {
   "cell_type": "markdown",
   "id": "d0e26456",
   "metadata": {},
   "source": [
    "# 0.1 Calculate the mean of a integers list\n",
    "\n",
    "Description:\n",
    "\n",
    "Write a function that takes a list of integers as input and returns the mean of the list.\n",
    "\n",
    "Example Input:\n",
    "\n",
    "`[1, 2, 3, 4, 5]`\n",
    "\n",
    "Example Output:\n",
    "\n",
    "`3.0`\n",
    "\n",
    "Constraints:\n",
    "\n",
    "- The function should be named \"calculate_mean\"\n",
    "- The function should take one argument, which is a list of integers.\n",
    "- The output should be a float representing the mean of the input list.\n",
    "- You can assume that the input list will only contain integers."
   ]
  },
  {
   "cell_type": "code",
   "execution_count": 41,
   "id": "abb5e23d-5b2d-45a9-8f26-342cd82429cd",
   "metadata": {},
   "outputs": [],
   "source": [
    "def calculate_mean(list1):\n",
    "    return sum(list1)/len(list1)"
   ]
  },
  {
   "cell_type": "code",
   "execution_count": 42,
   "id": "f7d72b50-6ef8-48a2-bd63-bdf711a3650d",
   "metadata": {
    "deletable": false,
    "editable": false,
    "tags": []
   },
   "outputs": [],
   "source": [
    "# testing cell\n",
    "result = str(calculate_mean([1, 2, 3,4,6,1,3, 4, 5,2])).encode()\n",
    "expected_hash = '35efc6ded4e13f29a8d86e4f33294be0f59fcaaf3a56b538f9e34e60e3ae4f44'\n",
    "assert hashlib.sha256(result).hexdigest() == expected_hash"
   ]
  },
  {
   "cell_type": "markdown",
   "id": "404fddc5",
   "metadata": {},
   "source": [
    "# 1 Lists"
   ]
  },
  {
   "cell_type": "markdown",
   "id": "9a8f8ab8",
   "metadata": {},
   "source": [
    "# 1.1 Write a function to join a list of lists\n",
    "\n",
    "**Description:**  \n",
    "Write a Python function that takes a list of lists as input, and returns a single list that contains all the elements of the input lists. The function should be able to handle lists of any size, including empty lists.  \n",
    "  \n",
    "Example Input:\n",
    "\n",
    "`[[1,2,3], [4,5], [], [6]]`\n",
    "  \n",
    "Example Output:  \n",
    "  \n",
    "`[1, 2, 3, 4, 5, 6]`\n",
    "  \n",
    "Constraints:  \n",
    "  \n",
    "The function should be named \"join_lists\"  \n",
    "The function should take one argument, which is a list of lists  \n",
    "The function should return a single list, containing all the elements of the input lists.  \n",
    "You can assume that the input list will only contain integers and empty lists.  "
   ]
  },
  {
   "cell_type": "code",
   "execution_count": 44,
   "id": "bf2cf734",
   "metadata": {},
   "outputs": [
    {
     "ename": "IndentationError",
     "evalue": "expected an indented block (3354423915.py, line 1)",
     "output_type": "error",
     "traceback": [
      "\u001b[0;36m  Input \u001b[0;32mIn [44]\u001b[0;36m\u001b[0m\n\u001b[0;31m    def join_lists():\u001b[0m\n\u001b[0m                     ^\u001b[0m\n\u001b[0;31mIndentationError\u001b[0m\u001b[0;31m:\u001b[0m expected an indented block\n"
     ]
    }
   ],
   "source": [
    "def join_lists():\n",
    "    "
   ]
  },
  {
   "cell_type": "markdown",
   "id": "a27d1f12",
   "metadata": {},
   "source": [
    "# 1.2 Write a function that finds the intersection between 2 lists\n",
    "Sure! Here's another exercise statement for you:\n",
    "\n",
    "Title: Write a Function that Finds the Intersection Between 2 Lists\n",
    "\n",
    "Description:\n",
    "\n",
    "Write a Python function that takes two lists as input and returns a list of the elements that are common to both lists. If there are no common elements, the function should return an empty list.\n",
    "\n",
    "Example Input:\n",
    "\n",
    "`list1 = [1, 2, 3, 4, 5] `  \n",
    "`list2 = [4, 5, 6, 7, 8] `\n",
    "\n",
    "Example Output:\n",
    "\n",
    "`[4, 5]`\n",
    "\n",
    "Constraints:\n",
    "\n",
    "- The function should be named \"find_intersection\"\n",
    "- The function should take two arguments, both of which are lists\n",
    "- The function should return a list containing the common elements between the two input lists\n",
    "- The order of the elements in the output list does not matter\n",
    "- You can assume that the input lists will only contain integers"
   ]
  },
  {
   "cell_type": "code",
   "execution_count": null,
   "id": "26e45b11",
   "metadata": {},
   "outputs": [],
   "source": []
  },
  {
   "cell_type": "markdown",
   "id": "92f6f971",
   "metadata": {},
   "source": [
    "# 1.3 Write a function that finds elements of list A in list B but not in list C\n",
    "\n",
    "Description:\n",
    "\n",
    "Write a Python function that takes three lists as input: A, B, and C, and returns a list of the elements of A that are in B but not in C.\n",
    "\n",
    "Example Input:\n",
    "\n",
    "`A = [1, 2, 3, 4, 5]`\n",
    "`B = [3, 4, 5, 6, 7]`\n",
    "`C = [1, 2, 3]`\n",
    "\n",
    "Example Output:\n",
    "\n",
    "`[4, 5]`\n",
    "\n",
    "Constraints:\n",
    "\n",
    "- The function should be named \"find_elements\"\n",
    "- The function should take three arguments, all of which are lists: A, B, and C.\n",
    "- The function should return a list containing the elements that are in list A and in list B but not in list C.\n",
    "- The order of the elements in the output list does not matter.\n",
    "- You can assume that the input lists will only contain integers."
   ]
  },
  {
   "cell_type": "code",
   "execution_count": null,
   "id": "c11d0dab",
   "metadata": {},
   "outputs": [],
   "source": []
  },
  {
   "cell_type": "markdown",
   "id": "18972cb0",
   "metadata": {},
   "source": [
    "# 2. Dictionaries"
   ]
  },
  {
   "cell_type": "markdown",
   "id": "27b67f59",
   "metadata": {},
   "source": [
    "# 2.1 Write a Function that updates a Dictionary and with his statistics\n",
    "\n",
    "Description:\n",
    "\n",
    "Write a Python function that takes a dictionary as input and performs the following operations:\n",
    "\n",
    "1. Add a new key-value pair to the dictionary, where the key is \"total\" and the value is the sum of all the values in the dictionary.\n",
    "2. Add a new key-value pair to the dictionary, where the key is \"count\" and the value is the number of keys in the dictionary.\n",
    "3. Return the updated dictionary.\n",
    "\n",
    "Example Input:\n",
    "\n",
    "`my_dict = {\"apples\": 3, \"bananas\": 5, \"oranges\": 2}`\n",
    "\n",
    "Example Output:\n",
    "\n",
    "`{\"apples\": 3, \"bananas\": 5, \"oranges\": 2, \"total\": 10, \"count\": 3}`\n",
    "\n",
    "Constraints:\n",
    "\n",
    "- The function should be named \"update_dict\"\n",
    "- The function should take one argument, which is a dictionary\n",
    "- The function should return the updated dictionary\n",
    "- You can assume that the input dictionary will only contain string keys and integer values."
   ]
  },
  {
   "cell_type": "code",
   "execution_count": null,
   "id": "782565b7-b787-46dc-bd07-1f5bf6d03956",
   "metadata": {},
   "outputs": [],
   "source": []
  },
  {
   "cell_type": "markdown",
   "id": "4cd77828-fa29-4c1a-b3d0-b4ca1382441e",
   "metadata": {},
   "source": [
    "# 2.2 Count the Occurrences of Each Letter in a String\n",
    "\n",
    "Description:\n",
    "\n",
    "Write a function that takes a string as input and returns a dictionary where the keys are the letters in the string and the values are the number of times each letter appears in the string.\n",
    "\n",
    "Example Input:\n",
    "\n",
    "`\"hello\"`\n",
    "\n",
    "Example Output:\n",
    "\n",
    "`{'h': 1, 'e': 1, 'l': 2, 'o': 1}`\n",
    "\n",
    "Constraints:\n",
    "\n",
    "- The function should be named \"count_letters\"\n",
    "- The function should take one argument, which is a string.\n",
    "- The output should be a dictionary where the keys are the letters in the input string and the values are the number of times each letter appears in the input string.\n",
    "- You can assume that the input string will only contain lowercase and uppercase letters, digits, spaces, and punctuation.\n",
    "- The function should be case-insensitive, meaning that uppercase and lowercase letters should be treated as equivalent.\n",
    "- The function should ignore spaces and punctuation when counting occurrences of letters."
   ]
  },
  {
   "cell_type": "code",
   "execution_count": null,
   "id": "ea931278-25e4-4b99-b7cb-7ac853f9e980",
   "metadata": {},
   "outputs": [],
   "source": []
  },
  {
   "cell_type": "markdown",
   "id": "b346f24c-e44c-409d-a44b-bab4e896a21e",
   "metadata": {},
   "source": [
    "# 2.3 Eliminate Duplicate Words in a String\n",
    "\n",
    "Description:\n",
    "\n",
    "Write a function that takes a string as input and returns a string where all duplicate words have been eliminated. A word is defined as any sequence of non-space characters.\n",
    "\n",
    "Example Input:\n",
    "\n",
    "\"the cat in the hat hat\"\n",
    "\n",
    "Example Output:\n",
    "\n",
    "\"the cat in hat\"\n",
    "\n",
    "Constraints:\n",
    "\n",
    "- The function should be named \"eliminate_duplicates\"\n",
    "- The function should take one argument, which is a string.\n",
    "- The output should be a string where all duplicate words have been eliminated.\n",
    "- You can assume that the input string will only contain lowercase and uppercase letters, digits, spaces, and punctuation.\n",
    "- The function should be case-insensitive, meaning that uppercase and lowercase letters should be treated as equivalent.\n",
    "- The function should preserve the order of words in the original string."
   ]
  },
  {
   "cell_type": "code",
   "execution_count": null,
   "id": "e3edfb0a",
   "metadata": {},
   "outputs": [],
   "source": []
  },
  {
   "cell_type": "markdown",
   "id": "62632c79",
   "metadata": {
    "tags": []
   },
   "source": [
    "# 3. Algorithms"
   ]
  },
  {
   "cell_type": "code",
   "execution_count": null,
   "id": "10399736",
   "metadata": {},
   "outputs": [],
   "source": []
  },
  {
   "cell_type": "markdown",
   "id": "bb318acc",
   "metadata": {},
   "source": [
    "# 3.1 Find the Longest Common Substring of Two Sentences\n",
    "\n",
    "Description:\n",
    "\n",
    "Write a function that takes two sentences as input and returns the longest common substring between them. \n",
    "\n",
    "Example Input:\n",
    "\n",
    "`sentence1 = \"The quick brown fox jumps over the lazy dog\"`\n",
    "`sentence2 = \"My favorite animal is the quick brown fox\"`\n",
    "\n",
    "Example Output:\n",
    "\n",
    "`\"the quick brown fox\"`\n",
    "\n",
    "Constraints:\n",
    "\n",
    "- The function should be named \"longest_common_substring\"\n",
    "- The function should take two string inputs.\n",
    "- The output should be a string representing the longest common substring.\n",
    "- You can assume that the input sentences will only contain lowercase and uppercase letters, digits, spaces, and punctuation.\n",
    "- The function should return an empty string if there is no common substring between the two input strings.\n",
    "- The ouput should be in **lowercase**"
   ]
  },
  {
   "cell_type": "code",
   "execution_count": null,
   "id": "2516a37e",
   "metadata": {},
   "outputs": [],
   "source": []
  }
 ],
 "metadata": {
  "kernelspec": {
   "display_name": "Python 3 (ipykernel)",
   "language": "python",
   "name": "python3"
  },
  "language_info": {
   "codemirror_mode": {
    "name": "ipython",
    "version": 3
   },
   "file_extension": ".py",
   "mimetype": "text/x-python",
   "name": "python",
   "nbconvert_exporter": "python",
   "pygments_lexer": "ipython3",
   "version": "3.9.12"
  }
 },
 "nbformat": 4,
 "nbformat_minor": 5
}
