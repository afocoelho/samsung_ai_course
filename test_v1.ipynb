{
 "cells": [
  {
   "cell_type": "markdown",
   "id": "b454e37b",
   "metadata": {},
   "source": [
    "# 1. "
   ]
  },
  {
   "cell_type": "code",
   "execution_count": 1,
   "id": "799f6c17-9d73-41f1-83b7-a7ec68e0106f",
   "metadata": {
    "deletable": false,
    "editable": false,
    "tags": []
   },
   "outputs": [],
   "source": [
    "import hashlib"
   ]
  },
  {
   "cell_type": "markdown",
   "id": "d0e26456",
   "metadata": {},
   "source": [
    "# 1.1 Mean of a list of numbers\n",
    "\n",
    "Description:\n",
    "\n",
    "Write a function that takes a list of integers as input and returns the mean of the list.\n",
    "\n",
    "Example Input:\n",
    "\n",
    "`[1, 2, 3, 4, 5]`\n",
    "\n",
    "Example Output:\n",
    "\n",
    "`3.0`\n",
    "\n",
    "Constraints:\n",
    "\n",
    "- The function should be named \"calculate_mean\"\n",
    "- The function should take one argument, which is a list of integers.\n",
    "- The output should be a float representing the mean of the input list.\n",
    "- You can assume that the input list will only contain integers."
   ]
  },
  {
   "cell_type": "code",
   "execution_count": 23,
   "id": "abb5e23d-5b2d-45a9-8f26-342cd82429cd",
   "metadata": {},
   "outputs": [],
   "source": [
    "def calculate_mean(input_list):\n",
    "    return sum(input_list) / len(input_list)"
   ]
  },
  {
   "cell_type": "code",
   "execution_count": 27,
   "id": "95c64fa2",
   "metadata": {},
   "outputs": [],
   "source": [
    "test_case_1 = [1, 2, 3] # 2\n",
    "test_case_2 = [-2, 0, 2, 4, 6] # 2\n",
    "test_case_3 = [10, -5, 3, 7, -2, 0, 8, -9, 4, 1] # 1.7"
   ]
  },
  {
   "cell_type": "code",
   "execution_count": 22,
   "id": "444ed071",
   "metadata": {
    "deletable": false,
    "editable": false,
    "tags": []
   },
   "outputs": [],
   "source": [
    "#testing cell\n",
    "results = [hashlib.sha256(str(calculate_mean(test_case)).encode()).hexdigest() for test_case in [test_case_1, test_case_2, test_case_3]]\n",
    "\n",
    "expected_hashes = ['d84bdb34d4eeef4034d77e5403f850e35bc4a51b1143e3a83510e1aaad839748',\n",
    " 'd84bdb34d4eeef4034d77e5403f850e35bc4a51b1143e3a83510e1aaad839748',\n",
    " '8f65223004a75f44404f485a1e84090699acef51f39de9411d6d9b377ae859a5']\n",
    "\n",
    "assert all([result == expected_hash for result, expected_hash in zip(results, expected_hashes)])"
   ]
  },
  {
   "cell_type": "markdown",
   "id": "a27d1f12",
   "metadata": {},
   "source": [
    "# 1.2 Intersection between 2 lists\n",
    "Sure! Here's another exercise statement for you:\n",
    "\n",
    "Title: Write a Function that Finds the Intersection between 2 lists: A and B\n",
    "\n",
    "Description:\n",
    "\n",
    "Write a Python function that takes two lists as input and returns a list of the elements that are common to both lists. If there are no common elements, the function should return an empty list.\n",
    "\n",
    "Example Input:\n",
    "\n",
    "`A = [1, 2, 3, 4, 5] `  \n",
    "`B = [4, 5, 6, 7, 8] `\n",
    "\n",
    "Example Output:\n",
    "\n",
    "`[4, 5]`\n",
    "\n",
    "Constraints:\n",
    "\n",
    "- The function should be named \"find_intersection\"\n",
    "- The function should take two arguments, both of which are lists\n",
    "- The function should return a list containing the common elements between the two input lists\n",
    "- The order of the elements in the output list does not matter\n",
    "- You can assume that the input lists will only contain integers"
   ]
  },
  {
   "cell_type": "code",
   "execution_count": 26,
   "id": "26e45b11",
   "metadata": {},
   "outputs": [],
   "source": [
    "test_case_1 = ([1,2,3],[2,3,4]) # [2,3]\n",
    "test_case_2 = ([1],[2]) # []\n",
    "test_case_3 = ([1,2,3,4],[1,2,3,4]) # [1,2,3,4]"
   ]
  },
  {
   "cell_type": "markdown",
   "id": "92f6f971",
   "metadata": {},
   "source": [
    "# 1.3 Intersection between two lists, with condition\n",
    "\n",
    "Description:\n",
    "\n",
    "Write a Python function that takes three lists as input: A, B, and C. You want to find the intersection between A and B but your result cannot include any elements from list C.\n",
    "\n",
    "Example Input:\n",
    "\n",
    "`A = [1, 2, 3, 4, 5]`\n",
    "`B = [3, 4, 5, 6]`\n",
    "`C = [1, 4]`\n",
    "\n",
    "Example Output:\n",
    "\n",
    "`[3, 5]`\n",
    "\n",
    "Constraints:\n",
    "\n",
    "- The function should be named \"find_conditional_intersection\"\n",
    "- The function should take three arguments, all of which are lists: A, B, and C.\n",
    "- Each list contains only numbers as elements\n",
    "- The function should return a list containing the elements that are in both lists A and B but not in list C.\n",
    "- The order of the elements in the output list does not matter.\n",
    "- You can assume that the input lists will only contain integers."
   ]
  },
  {
   "cell_type": "code",
   "execution_count": 24,
   "id": "63704fb1",
   "metadata": {},
   "outputs": [],
   "source": [
    "def find_conditional_intersection(A,B,C):\n",
    "    raise NotImplementedError()"
   ]
  },
  {
   "cell_type": "code",
   "execution_count": 29,
   "id": "0f0e47c9",
   "metadata": {},
   "outputs": [],
   "source": [
    "test_case_1 = {'A': [1,2,3], 'B': [2,3,4], 'C':[2]} # [3]\n",
    "test_case_2 = {'A': [1,2,3,4,5], 'B': [1,2,3,4,5], 'C':[1,2,3,4,5]}\n",
    "test_case_3 = {'A': [1,2], 'B': [3,4], 'C': [5,6]}"
   ]
  },
  {
   "cell_type": "markdown",
   "id": "1a08fadc",
   "metadata": {},
   "source": [
    "# 1.4 Find all numbers inside a list\n",
    "\n",
    "**Description:**  \n",
    "Write a Python function that takes a list as input. The elements of this list can be either 1) a number, or 2) a list of numbers. Your function should return a single list that contains all the numbers inside your input list. Be careful, some of the lists can be empty.\n",
    "  \n",
    "Example Input:\n",
    "\n",
    "`[1, 2, [3, 4], [], [6, 7, 8, 9], 10]`\n",
    "  \n",
    "Example Output:\n",
    "  \n",
    "`[1, 2, 3, 4, 5, 6, 7 , 8 , 9, 10]`\n",
    "  \n",
    "Constraints:  \n",
    "  \n",
    "- The function should be named \"where_are_the_numbers\"  \n",
    "- The function should take one argument, which is a list.\n",
    "- The function should return a single list, containing all the numbers present inside the input.\n",
    "- You can assume that the input list will only contain integers, lists of integers and empty lists.  "
   ]
  },
  {
   "cell_type": "code",
   "execution_count": 17,
   "id": "90bc60ed",
   "metadata": {},
   "outputs": [],
   "source": [
    "def where_are_the_numbers(input_list):\n",
    "    res = []\n",
    "    for elem in input_list:\n",
    "        res.extend(elem) if isinstance(elem,list) else res.append(elem)\n",
    "    return res"
   ]
  },
  {
   "cell_type": "code",
   "execution_count": 22,
   "id": "b8263485",
   "metadata": {},
   "outputs": [],
   "source": [
    "test_case_1 = [1, 2, [3, 4], [5, 6], 7, [8, 9, 10]]\n",
    "test_case_2 = [[1, 2], [3, 4], [5, 6], [7, 8], [9, 10, 11]]\n",
    "test_case_3 = [[], [1, 2], [], [3, 4], [5, 6], [], 7, [8, 9, 10], 11, [], 12, []]"
   ]
  },
  {
   "cell_type": "code",
   "execution_count": 23,
   "id": "d74f1d18",
   "metadata": {},
   "outputs": [
    {
     "data": {
      "text/plain": [
       "[1, 2, 3, 4, 5, 6, 7, 8, 9, 10, 11, 12]"
      ]
     },
     "execution_count": 23,
     "metadata": {},
     "output_type": "execute_result"
    }
   ],
   "source": [
    "where_are_the_numbers(test_case_3)"
   ]
  },
  {
   "cell_type": "markdown",
   "id": "18972cb0",
   "metadata": {},
   "source": [
    "# 2. Dictionaries"
   ]
  },
  {
   "cell_type": "markdown",
   "id": "27b67f59",
   "metadata": {},
   "source": [
    "## 2.1 Build metadata for a grocery store\n",
    "\n",
    "Description:\n",
    "\n",
    "Write a Python function that takes as input a dictionary of grocery items as keys, and their amount as values (think of this as a database for a grocery store), and returns a dictionary of metadata. Your dictionary should contain the following:\n",
    "\n",
    "1. A key \"total_amount\" where the value should be the total amount of groceries.\n",
    "2. A key \"items\" and the value should be a set with all the different grocery items.\n",
    "3. A key \"running low\" and the value should be all grocery items whose amount is below 2.\n",
    "\n",
    "Example Input:\n",
    "\n",
    "`grocery_database = {\"apples\": 3, \"bananas\": 5, \"oranges\": 1}`\n",
    "\n",
    "Example Output:\n",
    "\n",
    "`{\"total_amount\": 10, \"items\": {\"apples\",\"bananas\",\"oranges\"}, \"running low\": [\"oranges\"]}`\n",
    "\n",
    "Constraints:\n",
    "\n",
    "- The function should be named \"build_metadata\"\n",
    "- The function should take one argument, which is a dictionary\n",
    "- The function should return the updated dictionary\n",
    "- You can assume that the input dictionary will only contain string keys and integer values."
   ]
  },
  {
   "cell_type": "code",
   "execution_count": 33,
   "id": "782565b7-b787-46dc-bd07-1f5bf6d03956",
   "metadata": {},
   "outputs": [],
   "source": [
    "test_case_1 = {\"apples\": 3, \"bananas\": 5, \"oranges\": 1}\n",
    "test_case_2 = {\"tomatoes\":19, \"cucumber\":1, \"beans\":5, \"kiwis\": 1}\n",
    "test_case_3 = {\"grapefruit\": 49, \"melon\": 0, \"strawberries\":78}"
   ]
  },
  {
   "cell_type": "markdown",
   "id": "4cd77828-fa29-4c1a-b3d0-b4ca1382441e",
   "metadata": {},
   "source": [
    "## 2.2 Count the Occurrences of Each Letter in a String\n",
    "\n",
    "Description:\n",
    "\n",
    "Write a function that takes a string as input and returns a dictionary where the keys are the letters in the string and the values are the number of times each letter appears in the string.\n",
    "\n",
    "Example Input:\n",
    "\n",
    "`\"hello\"`\n",
    "\n",
    "Example Output:\n",
    "\n",
    "`{'h': 1, 'e': 1, 'l': 2, 'o': 1}`\n",
    "\n",
    "Constraints:\n",
    "\n",
    "- The function should be named \"count_letters\"\n",
    "- The function should take one argument, which is a string.\n",
    "- The output should be a dictionary where the keys are the letters in the input string and the values are the number of times each letter appears in the input string.\n",
    "- A whitespace is not a letter so it shouldnt be considered.\n",
    "- The function should be case-insensitive, meaning that uppercase and lowercase letters should be treated as equivalent.\n",
    "- The function should ignore spaces and punctuation when counting occurrences of letters."
   ]
  },
  {
   "cell_type": "code",
   "execution_count": 38,
   "id": "ea931278-25e4-4b99-b7cb-7ac853f9e980",
   "metadata": {},
   "outputs": [],
   "source": [
    "test_case_1 = \"hello\"\n",
    "test_case_2 = \"Never gonna give you up\"\n",
    "test_case_3 = \"Never gonna let you down\""
   ]
  },
  {
   "cell_type": "markdown",
   "id": "ca54331c",
   "metadata": {},
   "source": [
    "## 2.3 Bag of words\n",
    "Description\n",
    "\n",
    "Write a function that takes a string as input and returns a dictionary where the keys are unique words in the string and the values are their count in the string.\n",
    "\n",
    "Example Input:\n",
    "\n",
    "`\"The quick brown fox jumps over the lazy dog\"`\n",
    "\n",
    "Example Output:\n",
    "`{'the': 2, 'quick': 1, 'brown': 1, 'fox': 1, 'jumps': 1, 'over': 1, 'lazy': 1, 'dog': 1}`\n",
    "\n",
    "Contraints:\n",
    "- The function should be named 'text2bow'\n",
    "- The function should take on argument, which is a string\n",
    "- A word is considered a sequence of text surrounded by whitespaces"
   ]
  },
  {
   "cell_type": "code",
   "execution_count": 37,
   "id": "c1e3035c",
   "metadata": {},
   "outputs": [],
   "source": [
    "test_case_1 = \"The quick brown fox jumps over the lazy dog\"\n",
    "test_case_2 = \"Keep your friends close, but your enemies closer.\"\n",
    "test_case_3 = \"To be, or not to be, that is the question. Whether 'tis nobler in the mind to suffer.\""
   ]
  },
  {
   "cell_type": "markdown",
   "id": "ad339917",
   "metadata": {},
   "source": [
    "# 3 Strings"
   ]
  },
  {
   "cell_type": "markdown",
   "id": "b346f24c-e44c-409d-a44b-bab4e896a21e",
   "metadata": {},
   "source": [
    "## 3.1 Eliminate Duplicate Words in a String\n",
    "\n",
    "Description:\n",
    "\n",
    "Write a function that takes a string as input and returns a string where all duplicate words have been eliminated. A word is defined as any sequence of non-space characters.\n",
    "\n",
    "Example Input:\n",
    "\n",
    "\"the cat in the hat hat\"\n",
    "\n",
    "Example Output:\n",
    "\n",
    "\"the cat in hat\"\n",
    "\n",
    "Constraints:\n",
    "\n",
    "- The function should be named \"eliminate_duplicates\"\n",
    "- The function should take one argument, which is a string.\n",
    "- The output should be a string where all duplicate words have been eliminated.\n",
    "- You can assume that the input string will only contain lowercase and uppercase letters, digits, spaces, and punctuation.\n",
    "- The function should be case-insensitive, meaning that uppercase and lowercase letters should be treated as equivalent.\n",
    "- The function should preserve the order of words in the original string."
   ]
  },
  {
   "cell_type": "code",
   "execution_count": null,
   "id": "e3edfb0a",
   "metadata": {},
   "outputs": [],
   "source": []
  },
  {
   "cell_type": "markdown",
   "id": "bb318acc",
   "metadata": {},
   "source": [
    "## 3.2 Find the Longest Common Substring of Two Sentences\n",
    "\n",
    "Description:\n",
    "\n",
    "Write a function that takes two sentences as input and returns the longest common substring between them. \n",
    "\n",
    "Example Input:\n",
    "\n",
    "`sentence1 = \"The quick brown fox jumps over the lazy dog\"`\n",
    "`sentence2 = \"My favorite animal is the quick brown fox\"`\n",
    "\n",
    "Example Output:\n",
    "\n",
    "`\"the quick brown fox\"`\n",
    "\n",
    "Constraints:\n",
    "\n",
    "- The function should be named \"longest_common_substring\"\n",
    "- The function should take two string inputs.\n",
    "- The output should be a string representing the longest common substring.\n",
    "- You can assume that the input sentences will only contain lowercase and uppercase letters, digits, spaces, and punctuation.\n",
    "- The function should return an empty string if there is no common substring between the two input strings.\n",
    "- The ouput should be in **lowercase**"
   ]
  },
  {
   "cell_type": "code",
   "execution_count": null,
   "id": "2516a37e",
   "metadata": {},
   "outputs": [],
   "source": []
  }
 ],
 "metadata": {
  "kernelspec": {
   "display_name": "grade",
   "language": "python",
   "name": "grade"
  },
  "language_info": {
   "codemirror_mode": {
    "name": "ipython",
    "version": 3
   },
   "file_extension": ".py",
   "mimetype": "text/x-python",
   "name": "python",
   "nbconvert_exporter": "python",
   "pygments_lexer": "ipython3",
   "version": "3.11.3"
  }
 },
 "nbformat": 4,
 "nbformat_minor": 5
}
