{
 "cells": [
  {
   "cell_type": "markdown",
   "id": "526ceb67",
   "metadata": {},
   "source": [
    "# Introduction\n",
    "\n",
    "Welcome! In this notebook you have a few exercises to solve with Python. In all exercises you are supposed to create a function for the task at hand. The structure of each exercise is the following:\n",
    "\n",
    "1. A block of text describing the exercise objectives\n",
    "2. The code cell for you to complete the function, as well as an example prepared for you to check the output of your function for any given input\n",
    "3. An evaluation code cell that checks if your function is correctly defined by testing it against 3 different inputs\n",
    "\n",
    "You don't have to understand exactly what is happening in the evaluation cells. In fact, all you have to know about them is that **if you run them and they don't do anything, it means your function is correct!** If they produce an error it means one or more outputs weren't expected and you probably have to do some revisions to your code.\n",
    "\n",
    "\n",
    "## How to solve the exercises\n",
    "\n",
    "1. comment/delete the line raise NotImplementedError() and create your code solution that returns the correct output.\n",
    "2. You can test your function by changing the `example_input` in the `\"Example usage:\"` section and try different scenarios.\n",
    "3. Run the evaluation cell after you ran your code cell to apply your function to the three test cases.\n",
    "\n",
    "## Tips and mistakes to avoid\n",
    "\n",
    "1. If you haven't already go to \"FILE\"->\"Save a copy in Drive\" and then leave this page to go find this notebook in your drive. **Your changes will only be saved if you work on your copy**\n",
    "2. Don't forget to run your code cell before running the evaluation cell\n",
    "3. don't create new cells or delete existing ones.\n",
    "\n",
    "## Important\n",
    "\n",
    "1. You have 24 hours to solve this challenge and submit it on the appropriate google form. The countdown starts on our side immediately after you submitted the form that led you here.\n",
    "\n",
    "2. Your progress in the notebook won't be saved by default if you close its window. Therefore we advise you to go \"FILE\"->\"Save a copy in Drive\" to create your own copy of the notebook. Then you should go to your google drive and find the notebook and solve the exercises there. That way changes will be saved and you won't lose progress if something happens.\n",
    "\n",
    "3. Once you have completed the challenge, download the notebook to your local computer. You should change the name of the notebook to include the same username from your email that you used to register to this course. A notebook's filename is something like: `<filename>.ipynb`, if your email is example_username@gmail.com then your notebook should be named `example_username.ipynb`. After this, go upload it to the submission google form."
   ]
  },
  {
   "cell_type": "markdown",
   "id": "b454e37b",
   "metadata": {},
   "source": [
    "# 1. "
   ]
  },
  {
   "cell_type": "code",
   "execution_count": null,
   "id": "799f6c17-9d73-41f1-83b7-a7ec68e0106f",
   "metadata": {
    "deletable": false,
    "editable": false,
    "tags": []
   },
   "outputs": [],
   "source": [
    "import hashlib"
   ]
  },
  {
   "cell_type": "markdown",
   "id": "d0e26456",
   "metadata": {},
   "source": [
    "# 1.1 Mean of a list of numbers\n",
    "\n",
    "Description:\n",
    "\n",
    "Write a function that takes a list of integers as input and returns the mean of the list.\n",
    "\n",
    "Example Input:\n",
    "\n",
    "`[1, 2, 3, 4, 5]`\n",
    "\n",
    "Example Output:\n",
    "\n",
    "`3.0`\n",
    "\n",
    "Constraints:\n",
    "\n",
    "- The function should be named \"calculate_mean\"\n",
    "- The function should take one argument, which is a list of integers.\n",
    "- The output should be a float representing the mean of the input list.\n",
    "- You can assume that the input list will only contain integers."
   ]
  },
  {
   "cell_type": "code",
   "execution_count": null,
   "id": "abb5e23d-5b2d-45a9-8f26-342cd82429cd",
   "metadata": {},
   "outputs": [],
   "source": [
    "def calculate_mean(input_list):\n",
    "    raise NotImplementedError()\n",
    "\n",
    "# Example usage:\n",
    "example_input = [1,2,3]\n",
    "calculate_mean(example_input)  # Expected Output: 2"
   ]
  },
  {
   "cell_type": "code",
   "execution_count": null,
   "id": "95c64fa2",
   "metadata": {},
   "outputs": [],
   "source": [
    "test_case_1 = [1, 2, 3] # 2\n",
    "test_case_2 = [-2, 0, 2, 4, 6] # 2\n",
    "test_case_3 = [10, -5, 3, 7, -2, 0, 8, -9, 4, 1] # 1.7"
   ]
  },
  {
   "cell_type": "code",
   "execution_count": null,
   "id": "444ed071",
   "metadata": {
    "deletable": false,
    "editable": false,
    "tags": []
   },
   "outputs": [],
   "source": [
    "#testing cell\n",
    "results = [hashlib.sha256(str(calculate_mean(test_case)).encode()).hexdigest() for test_case in [test_case_1, test_case_2, test_case_3]]\n",
    "\n",
    "expected_hashes = ['d84bdb34d4eeef4034d77e5403f850e35bc4a51b1143e3a83510e1aaad839748',\n",
    " 'd84bdb34d4eeef4034d77e5403f850e35bc4a51b1143e3a83510e1aaad839748',\n",
    " '8f65223004a75f44404f485a1e84090699acef51f39de9411d6d9b377ae859a5']\n",
    "\n",
    "assert all([result == expected_hash for result, expected_hash in zip(results, expected_hashes)])"
   ]
  },
  {
   "cell_type": "markdown",
   "id": "a27d1f12",
   "metadata": {},
   "source": [
    "# 1.2 Intersection between 2 lists\n",
    "Sure! Here's another exercise statement for you:\n",
    "\n",
    "Title: Write a Function that Finds the Intersection between 2 lists: A and B\n",
    "\n",
    "Description:\n",
    "\n",
    "Write a Python function that takes two lists as input and returns a list of the elements that are common to both lists. If there are no common elements, the function should return an empty list.\n",
    "\n",
    "Example Input:\n",
    "\n",
    "`A = [1, 2, 3, 4, 5] `  \n",
    "`B = [4, 5, 6, 7, 8] `\n",
    "\n",
    "Example Output:\n",
    "\n",
    "`[4, 5]`\n",
    "\n",
    "Constraints:\n",
    "\n",
    "- The function should be named \"find_intersection\"\n",
    "- The function should take two arguments, both of which are lists\n",
    "- The function should return a list containing the common elements between the two input lists\n",
    "- The order of the elements in the output list does not matter\n",
    "- You can assume that the input lists will only contain integers"
   ]
  },
  {
   "cell_type": "code",
   "execution_count": null,
   "id": "f54a9fea",
   "metadata": {},
   "outputs": [],
   "source": [
    "def find_intersection(A, B):\n",
    "    raise NotImplementedError()\n",
    "\n",
    "# Example usage:\n",
    "example_input = {'A': [1,2,3], 'B': [2,3,4]}\n",
    "find_intersection(**example_input)  # Expected Output: [2, 3]"
   ]
  },
  {
   "cell_type": "code",
   "execution_count": null,
   "id": "26e45b11",
   "metadata": {},
   "outputs": [],
   "source": [
    "# testing Cell\n",
    "test_case_1 = {'A':[1,2,3],'B':[2,3,4]} # [2,3]\n",
    "test_case_2 = {'A':[1],'B':[2]} # []\n",
    "test_case_3 = {'A':[1,2,3,4],'B':[1,2,3,4]} # [1,2,3,4]\n",
    "\n",
    "#testing cell\n",
    "results = [hashlib.sha256(str(find_intersection(**test_case)).encode()).hexdigest() for test_case in [test_case_1, test_case_2, test_case_3]]\n",
    "\n",
    "expected_hashes = ['5bf775530e2e5fcd9c6ae577c52cd57a20d13ebb5f7bc3e8a8a7920d3a7ce41e',\n",
    " '4f53cda18c2baa0c0354bb5f9a3ecbe5ed12ab4d8e11ba873c2f11161202b945',\n",
    " 'd1be96124d992521a95e1a618d79025a5f5ee6613e43b0d235beb9b0fe8635a9']\n",
    "\n",
    "assert all([result == expected_hash for result, expected_hash in zip(results, expected_hashes)])"
   ]
  },
  {
   "cell_type": "markdown",
   "id": "92f6f971",
   "metadata": {},
   "source": [
    "# 1.3 Intersection between two lists, with condition\n",
    "\n",
    "Description:\n",
    "\n",
    "Write a Python function that takes three lists as input: A, B, and C. You want to find the intersection between A and B but your result cannot include any elements from list C.\n",
    "\n",
    "Example Input:\n",
    "\n",
    "`A = [1, 2, 3, 4, 5]`\n",
    "`B = [3, 4, 5, 6]`\n",
    "`C = [1, 4]`\n",
    "\n",
    "Example Output:\n",
    "\n",
    "`[3, 5]`\n",
    "\n",
    "Constraints:\n",
    "\n",
    "- The function should be named \"find_conditional_intersection\"\n",
    "- The function should take three arguments, all of which are lists: A, B, and C.\n",
    "- Each list contains only numbers as elements\n",
    "- The function should return a list containing the elements that are in both lists A and B but not in list C.\n",
    "- The order of the elements in the output list does not matter.\n",
    "- You can assume that the input lists will only contain integers."
   ]
  },
  {
   "cell_type": "code",
   "execution_count": null,
   "id": "63704fb1",
   "metadata": {},
   "outputs": [],
   "source": [
    "def find_conditional_intersection(A,B,C):\n",
    "    raise NotImplementedError()\n",
    "    \n",
    "\n",
    "# Example usage:\n",
    "example_input = {'A': [1,2,3], 'B': [2,3,4], 'C':[2]}\n",
    "find_conditional_intersection(**example_input)  # Expected Output: [3]"
   ]
  },
  {
   "cell_type": "code",
   "execution_count": null,
   "id": "994ba887",
   "metadata": {},
   "outputs": [],
   "source": [
    "# Testing Cell\n",
    "test_case_1 = {'A': [1,2,3], 'B': [2,3,4], 'C':[2]} # [3]\n",
    "test_case_2 = {'A': [1,2,3,4,5], 'B': [1,2,3,4,5], 'C':[1,2,3,4,5]}\n",
    "test_case_3 = {'A': [1,2], 'B': [3,4], 'C': [5,6]}\n",
    "\n",
    "results = [hashlib.sha256(str((find_conditional_intersection(**test_case))).encode()).hexdigest() for test_case in [test_case_1, test_case_2, test_case_3]]\n",
    "\n",
    "expected_hashes = ['06d033ece6645de592db973644cf7357255f24536ff7b03c3b2ace10736f7636',\n",
    " '4f53cda18c2baa0c0354bb5f9a3ecbe5ed12ab4d8e11ba873c2f11161202b945',\n",
    " '4f53cda18c2baa0c0354bb5f9a3ecbe5ed12ab4d8e11ba873c2f11161202b945']\n",
    "\n",
    "assert all([result == expected_hash for result, expected_hash in zip(results, expected_hashes)])"
   ]
  },
  {
   "cell_type": "markdown",
   "id": "1a08fadc",
   "metadata": {},
   "source": [
    "# 1.4 Find all numbers inside a list\n",
    "\n",
    "**Description:**  \n",
    "Write a Python function that takes a list as input. The elements of this list can be either 1) a number, or 2) a list of numbers. Your function should return a single list that contains all the numbers inside your input list. Be careful, some of the lists can be empty.\n",
    "  \n",
    "Example Input:\n",
    "\n",
    "`[1, 2, [3, 4], [], [6, 7, 8, 9], 10]`\n",
    "  \n",
    "Example Output:\n",
    "  \n",
    "`[1, 2, 3, 4, 5, 6, 7 , 8 , 9, 10]`\n",
    "  \n",
    "Constraints:  \n",
    "  \n",
    "- The function should be named \"where_are_the_numbers\"  \n",
    "- The function should take one argument, which is a list.\n",
    "- The function should return a single list, containing all the numbers present inside the input.\n",
    "- You can assume that the input list will only contain integers, lists of integers and empty lists.  "
   ]
  },
  {
   "cell_type": "code",
   "execution_count": null,
   "id": "90bc60ed",
   "metadata": {},
   "outputs": [],
   "source": [
    "def where_are_the_numbers(input_list):\n",
    "    raise NotImplementedError()\n",
    "\n",
    "# Example usage:\n",
    "example_input = [1, 2, [3, 4], [5, 6], 7, [8, 9, 10]]\n",
    "where_are_the_numbers(example_input)  # Expected Output: [1, 2, 3, 4, 5, 6, 7, 8, 9, 10]"
   ]
  },
  {
   "cell_type": "code",
   "execution_count": null,
   "id": "d74f1d18",
   "metadata": {},
   "outputs": [],
   "source": [
    "#testing cell\n",
    "test_case_1 = [1, 2, [3, 4], [5, 6], 7, [8, 9, 10]]\n",
    "test_case_2 = [[1, 2], [3, 4], [5, 6], [7, 8], [9, 10, 11]]\n",
    "test_case_3 = [[], [1, 2], [], [3, 4], [5, 6], [], 7, [8, 9, 10], 11, [], 12, []]\n",
    "\n",
    "results = [hashlib.sha256(str(where_are_the_numbers(test_case)).encode()).hexdigest() for test_case in [test_case_1, test_case_2, test_case_3]]\n",
    "\n",
    "expected_hashes = ['047c3537400c225da832d4d7dc924b01a3c0bac65ce23c5dcf182f4dd6895e73',\n",
    " '6c4aaeffbc958c203fa57bd33ab7be26aac217d3c417c45dd2ba6b723a28ac4e',\n",
    " '43408eb4bb07abc24e8706701c02f5ae6e3066d1203b280507e603cc62087d4e']\n",
    "\n",
    "assert all([result == expected_hash for result, expected_hash in zip(results, expected_hashes)])"
   ]
  },
  {
   "cell_type": "markdown",
   "id": "18972cb0",
   "metadata": {},
   "source": [
    "# 2. Dictionaries"
   ]
  },
  {
   "cell_type": "markdown",
   "id": "27b67f59",
   "metadata": {},
   "source": [
    "## 2.1 Build metadata for a grocery store\n",
    "\n",
    "Description:\n",
    "\n",
    "Write a Python function that takes as input a dictionary of grocery items as keys, and their amount as values (think of this as a database for a grocery store), and returns a dictionary of metadata. Your dictionary should contain the following:\n",
    "\n",
    "1. A key \"total_amount\" where the value should be the total amount of groceries.\n",
    "2. A key \"items\" and the value should be **a set** with all the different grocery items.\n",
    "3. A key \"running low\" and the value should be **a set** of all grocery items whose amount is below 2.\n",
    "\n",
    "Example Input:\n",
    "\n",
    "`grocery_database = {\"apples\": 3, \"bananas\": 5, \"oranges\": 1}`\n",
    "\n",
    "Example Output:\n",
    "\n",
    "`{\"total_amount\": 9, \"items\": {\"apples\",\"bananas\",\"oranges\"}, \"running low\": {\"oranges\"}}`\n",
    "\n",
    "Constraints:\n",
    "\n",
    "- The function should be named \"build_metadata\"\n",
    "- The function should take one argument, which is a dictionary\n",
    "- The function should return the updated dictionary\n",
    "- You can assume that the input dictionary will only contain string keys and integer values."
   ]
  },
  {
   "cell_type": "code",
   "execution_count": null,
   "id": "f9604bf5",
   "metadata": {},
   "outputs": [],
   "source": [
    "def build_metadata(grocery_database):\n",
    "    raise NotImplementedError()\n",
    "\n",
    "# Example usage:\n",
    "grocery_db1 = {\"apples\": 3, \"bananas\": 5, \"oranges\": 1}\n",
    "build_metadata(grocery_db1)  # Expected Output: {'total_amount': 9, 'items': {'bananas', 'apples', 'oranges'}, 'running low': ['oranges']}"
   ]
  },
  {
   "cell_type": "code",
   "execution_count": null,
   "id": "782565b7-b787-46dc-bd07-1f5bf6d03956",
   "metadata": {},
   "outputs": [],
   "source": [
    "test_case_1 = {\"apples\": 3, \"bananas\": 5, \"oranges\": 1}\n",
    "test_case_2 = {\"tomatoes\":19, \"cucumber\":1, \"beans\":5, \"kiwis\": 1}\n",
    "test_case_3 = {\"grapefruit\": 49, \"melon\": 0, \"strawberries\":78}\n",
    "\n",
    "results = [hashlib.sha256(str(build_metadata(test_case)).encode()).hexdigest() for test_case in [test_case_1, test_case_2, test_case_3]]\n",
    "\n",
    "expected_hashes = ['8fb8ae26ac73c593761ddc88bfa2d403e144b791d1c70a3e95e1b55f848ac076',\n",
    " '4670a0829c56f64d160facb7e2cdb1e36c55f108f7bb0bd4478d9b360d82dd37',\n",
    " '256ebfb7459d75d6ca899ea990298ba6ff7a0d31a0638c2991c2f5536575bfbd']\n",
    "\n",
    "assert all([result == expected_hash for result, expected_hash in zip(results, expected_hashes)])"
   ]
  },
  {
   "cell_type": "markdown",
   "id": "4cd77828-fa29-4c1a-b3d0-b4ca1382441e",
   "metadata": {},
   "source": [
    "## 2.2 Count the Occurrences of Each Character in a String\n",
    "\n",
    "Description:\n",
    "\n",
    "Write a function that takes a string as input and returns a dictionary where the keys are the characters in the string and the values are the respective count. With an additional rule, whitespaces shouldn't be considered.\n",
    "\n",
    "Example Input:\n",
    "\n",
    "`\"hel lo\"`\n",
    "\n",
    "Example Output:\n",
    "\n",
    "`{'h': 1, 'e': 1, 'l': 2, 'o': 1}`\n",
    "\n",
    "Constraints:\n",
    "\n",
    "- The function should be named \"count_characters\"\n",
    "- The function should take one argument, which is a string.\n",
    "- The output should be a dictionary where the keys are the characters in the input string and the values are the number of times each character appears in the input string.\n",
    "- Whitespaces shouldn't be considered.\n",
    "- The function should be case-insensitive, meaning that uppercase and lowercase letters should be treated as equivalent and represented in the output dictionary as lower case."
   ]
  },
  {
   "cell_type": "code",
   "execution_count": null,
   "id": "949d5fd2",
   "metadata": {},
   "outputs": [],
   "source": [
    "import string\n",
    "\n",
    "def count_characters(s):\n",
    "    raise NotImplementedError()\n",
    "\n",
    "# Example usage:\n",
    "s = \"Never gonna let you dow\"\n",
    "count_characters(s)  # Expected Output: {'n': 3, 'e': 3, 'v': 1, 'r': 1, 'g': 1, 'o': 3, 'a': 1, 'l': 1, 't': 1, 'y': 1, 'u': 1, 'd': 1, 'w': 1}"
   ]
  },
  {
   "cell_type": "code",
   "execution_count": null,
   "id": "ea931278-25e4-4b99-b7cb-7ac853f9e980",
   "metadata": {},
   "outputs": [],
   "source": [
    "test_case_1 = \"ready?\"\n",
    "test_case_2 = \"Never gonna let you down\"\n",
    "test_case_3 = \"Never gonna let you down\"\n",
    "\n",
    "results = [hashlib.sha256(str(count_characters(test_case)).encode()).hexdigest() for test_case in [test_case_1, test_case_2, test_case_3]]\n",
    "\n",
    "expected_hashes = ['eede51fc8e141fb650916fffd7355a99670da3814e79e88f12b056b6254da707',\n",
    " 'de6bf7bd6e7ab04cd2ad410ade2e42b35941c66d0d65e7cdab12c634309a740e',\n",
    " 'de6bf7bd6e7ab04cd2ad410ade2e42b35941c66d0d65e7cdab12c634309a740e']\n",
    "\n",
    "assert all([result == expected_hash for result, expected_hash in zip(results, expected_hashes)])"
   ]
  },
  {
   "cell_type": "markdown",
   "id": "ca54331c",
   "metadata": {},
   "source": [
    "## 2.3 Bag of words\n",
    "Description\n",
    "\n",
    "Write a function that takes a string as input and returns a dictionary where the keys are unique words in the string and the values are their count in the string.\n",
    "\n",
    "Example Input:\n",
    "\n",
    "`\"The quick brown fox jumps over the lazy dog.\"`\n",
    "\n",
    "Example Output:\n",
    "`{'the': 2, 'quick': 1, 'brown': 1, 'fox': 1, 'jumps': 1, 'over': 1, 'lazy': 1, 'dog.': 1}`\n",
    "\n",
    "Contraints:\n",
    "- The function should be named 'text2bow'\n",
    "- The function should take on argument, which is a string\n",
    "- A word is considered a sequence of text surrounded either by two whitespaces or by the start/end of a string and a whitespace."
   ]
  },
  {
   "cell_type": "code",
   "execution_count": null,
   "id": "cf8c6aa1",
   "metadata": {},
   "outputs": [],
   "source": [
    "def text2bow(s):\n",
    "    raise NotImplementedError()\n",
    "\n",
    "# Example usage:\n",
    "s = \"The quick brown fox jumps over the lazy dog.\"\n",
    "text2bow(s)  # Expected Output: {'The': 1, 'quick': 1, 'brown': 1, 'fox': 1, 'jumps': 1, 'over': 1, 'the': 1, 'lazy': 1, 'dog.': 1}"
   ]
  },
  {
   "cell_type": "code",
   "execution_count": null,
   "id": "c1e3035c",
   "metadata": {},
   "outputs": [],
   "source": [
    "test_case_1 = \"The quick brown fox jumps over the lazy dog.\"\n",
    "test_case_2 = \"Keep your friends close, but your enemies closer.\"\n",
    "test_case_3 = \"To be, or not to be, that is the question. Whether 'tis nobler in the mind to suffer.\"\n",
    "\n",
    "results = [hashlib.sha256(str(text2bow(test_case)).encode()).hexdigest() for test_case in [test_case_1, test_case_2, test_case_3]]\n",
    "\n",
    "expected_hashes = ['32f72d451f87dd0a176eadce14aa0e621d7e029f9a8eefc6ac88b3a56279fccf',\n",
    " 'a8774528ecfd41539f10c4ab36ad40ee563c6110a01d032bfd48ff171a26ada7',\n",
    " '08c5dd71f44770b80962868eea8f7c4bcac542b1b35b6c53fbb787b4230099dc']\n",
    "\n",
    "assert all([result == expected_hash for result, expected_hash in zip(results, expected_hashes)])\n",
    "del results"
   ]
  },
  {
   "cell_type": "markdown",
   "id": "ad339917",
   "metadata": {},
   "source": [
    "# 3 Strings"
   ]
  },
  {
   "cell_type": "markdown",
   "id": "b346f24c-e44c-409d-a44b-bab4e896a21e",
   "metadata": {},
   "source": [
    "## 3.1 Eliminate Duplicate Words in a String\n",
    "\n",
    "Description:\n",
    "\n",
    "Write a function that takes a string as input and returns a string where all duplicate words have been eliminated. A word is defined as any sequence of non-space characters. When you encounter the same word multiple times, only the first occurence should be kept while all others should be removed from the string.\n",
    "\n",
    "Example Input:\n",
    "\n",
    "\"the cat in the hat hat\"\n",
    "\n",
    "Example Output:\n",
    "\n",
    "\"the cat in hat\"\n",
    "\n",
    "Constraints:\n",
    "\n",
    "- The function should be named \"eliminate_duplicates\"\n",
    "- The function should take one argument, which is a string.\n",
    "- The output should be a string where all duplicate words have been eliminated.\n",
    "- The function should be case-insensitive, meaning that uppercase and lowercase letters should be treated as equivalent.\n",
    "- The function should preserve the order of words in the original string."
   ]
  },
  {
   "cell_type": "code",
   "execution_count": null,
   "id": "e3edfb0a",
   "metadata": {},
   "outputs": [],
   "source": [
    "def eliminate_duplicates(s):\n",
    "    raise NotImplementedError()\n",
    "\n",
    "\n",
    "# Example usage:\n",
    "s = \"the cat in the hat hat\"\n",
    "eliminate_duplicates(s)  # Expected Output: \"the cat in hat\""
   ]
  },
  {
   "cell_type": "code",
   "execution_count": null,
   "id": "3799a78f",
   "metadata": {},
   "outputs": [],
   "source": [
    "# Test case 1\n",
    "test_case_1 = \"the cat in the hat hat\" # the cat in hat\n",
    "test_case_2 = \"The quick brown fox jumps over the not so quick dog\"# The quick brown fox jumps over not so dog\n",
    "test_case_3 = \"The sun is shining the weather is sweet but is the sun sweet ?\"# The sun is shining weather sweet but ?\n",
    "\n",
    "results = [hashlib.sha256(str(eliminate_duplicates(test_case)).encode()).hexdigest() for test_case in [test_case_1, test_case_2, test_case_3]]\n",
    "\n",
    "expected_hashes = ['002bdd9274c2e1123dbdead488ae9d2b3dd6554942b8143b7c1084230cf08a6b',\n",
    " '206a8afcbc633342144d0bc499fe5d1f3466a3ce54ed33cfb98828711730e993',\n",
    " 'd5e6b94403a4dade037cb514b74cfa29fab914d23c7b06a8f98e2dfe6564bdf1']\n",
    "assert all([result == expected_hash for result, expected_hash in zip(results, expected_hashes)])\n",
    "del results"
   ]
  },
  {
   "cell_type": "markdown",
   "id": "bb318acc",
   "metadata": {},
   "source": [
    "## 3.2 Find the Longest Common Substring\n",
    "\n",
    "**Important**: This is the hardest exercise by far. If you aren't able to solve it don't worry! Click the cell below this one to write an explanation of your thought process on how you would try to solve this problem if you had more time. You may also leave your code even if it is incomplete.\n",
    "\n",
    "Description:\n",
    "\n",
    "Write a function that takes two strings as input and returns the longest common substring between them. \n",
    "\n",
    "Example Input:\n",
    "\n",
    "`sentence1 = \"The quick brown fox jumps over the lazy dog\"` <br>\n",
    "`sentence2 = \"My favorite animal is the quick brown fox\"`\n",
    "\n",
    "Example Output:\n",
    "\n",
    "`\"the quick brown fox\"`\n",
    "\n",
    "Constraints:\n",
    "\n",
    "- The function should be named \"longest_common_substring\"\n",
    "- The function should take two string inputs.\n",
    "- The output should be a string representing the longest common substring.\n",
    "- The function should return an empty string if there is no common substring between the two input strings."
   ]
  },
  {
   "cell_type": "markdown",
   "id": "403c2368",
   "metadata": {},
   "source": [
    "----\n",
    "\\[optional\\] **my reasoning:**\n",
    "\n",
    "----"
   ]
  },
  {
   "cell_type": "code",
   "execution_count": null,
   "id": "2516a37e",
   "metadata": {},
   "outputs": [],
   "source": [
    "def longest_common_substring(s1, s2):\n",
    "    raise NotImplementedError()\n",
    "\n",
    "# Example usage:\n",
    "s1 = \"ABCDGH\"\n",
    "s2 = \"ACDFGHR\"\n",
    "print(longest_common_substring(s1, s2))  # Expected Output: \"CDG\""
   ]
  },
  {
   "cell_type": "code",
   "execution_count": null,
   "id": "8ba21eda",
   "metadata": {},
   "outputs": [],
   "source": [
    "test_case_1 = {'s1': 'The quick brown fox jumps over the lazy dog', 's2': 'My favorite animal is the quick brown fox'}\n",
    "test_case_2 = {'s1': 'Hello world!', 's2': 'Goodbye world!'}\n",
    "test_case_3 = {'s1': 'The cat in the hat', 's2': 'The dog in the fog'}\n",
    "\n",
    "results = [hashlib.sha256(str(longest_common_substring(**test_case)).encode()).hexdigest() for test_case in [test_case_1, test_case_2, test_case_3]]\n",
    "\n",
    "expected_hashes = ['07ba84f6946a559cb4b71c9454a25a3aafd5df2d89eaffd7af11a0bdfcf2a3c9',\n",
    " '1a3cc0176c5f1f190d235522e0d5d4fce9ae2ec518991ce5d598609290701a84',\n",
    " '2ac51b0d4b90df90db54fdeeb86e4b8598befc4db2e4064ddd32479510e6d202']\n",
    "assert all([result == expected_hash for result, expected_hash in zip(results, expected_hashes)])"
   ]
  },
  {
   "cell_type": "markdown",
   "id": "ce9cc78f",
   "metadata": {},
   "source": [
    "# The End!"
   ]
  }
 ],
 "metadata": {
  "kernelspec": {
   "display_name": "Python 3 (ipykernel)",
   "language": "python",
   "name": "python3"
  },
  "language_info": {
   "codemirror_mode": {
    "name": "ipython",
    "version": 3
   },
   "file_extension": ".py",
   "mimetype": "text/x-python",
   "name": "python",
   "nbconvert_exporter": "python",
   "pygments_lexer": "ipython3",
   "version": "3.11.0"
  }
 },
 "nbformat": 4,
 "nbformat_minor": 5
}
